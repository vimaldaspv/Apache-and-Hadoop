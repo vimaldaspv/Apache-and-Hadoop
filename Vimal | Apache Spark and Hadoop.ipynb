{
  "nbformat": 4,
  "nbformat_minor": 0,
  "metadata": {
    "colab": {
      "provenance": []
    },
    "kernelspec": {
      "name": "python3",
      "display_name": "Python 3"
    },
    "language_info": {
      "name": "python"
    }
  },
  "cells": [
    {
      "cell_type": "markdown",
      "source": [
        "***Map-Reduce Program***"
      ],
      "metadata": {
        "id": "ivaVCcrgxR-e"
      }
    },
    {
      "cell_type": "code",
      "source": [
        "import csv\n",
        "from collections import defaultdict\n",
        "\n",
        "# Mapper function\n",
        "def mapper(data):\n",
        "    payment_method_counts = []\n",
        "    for row in data:\n",
        "        # Extract the payment method (column 7 in the dataset)\n",
        "        payment_method = row[6]\n",
        "        payment_method_counts.append((payment_method, 1))\n",
        "    return payment_method_counts\n",
        "\n",
        "# Reducer function\n",
        "def reducer(mapped_data):\n",
        "    reduced_data = defaultdict(int)\n",
        "    for key, value in mapped_data:\n",
        "        reduced_data[key] += value\n",
        "    return reduced_data\n",
        "\n",
        "# Load dataset function\n",
        "def load_dataset(file_path):\n",
        "    data = []\n",
        "    with open(file_path, mode=\"r\") as file:\n",
        "        reader = csv.reader(file)\n",
        "        header = next(reader)  # Skip the header row\n",
        "        for row in reader:\n",
        "            data.append(row)\n",
        "    return data\n",
        "\n",
        "# Main function to execute MapReduce\n",
        "def main():\n",
        "    # Load the dataset\n",
        "    dataset_path = \"Retail.csv\"  # Ensure this file is in the same directory\n",
        "    data = load_dataset(dataset_path)\n",
        "\n",
        "    # Map step\n",
        "    mapped_data = mapper(data)\n",
        "\n",
        "    # Reduce step\n",
        "    reduced_data = reducer(mapped_data)\n",
        "\n",
        "    # Print the results\n",
        "    print(\"Payment Method Counts:\")\n",
        "    for payment_method, count in reduced_data.items():\n",
        "        print(f\"{payment_method}: {count}\")\n",
        "\n",
        "if __name__ == \"__main__\":\n",
        "    main()\n"
      ],
      "metadata": {
        "colab": {
          "base_uri": "https://localhost:8080/"
        },
        "id": "1nEKjEEHyNl3",
        "outputId": "01ca0bb2-0621-4734-fe7d-65c07d17917b"
      },
      "execution_count": 1,
      "outputs": [
        {
          "output_type": "stream",
          "name": "stdout",
          "text": [
            "Payment Method Counts:\n",
            "Mobile Payment: 249711\n",
            "Cash: 250230\n",
            "Credit Card: 249985\n",
            "Debit Card: 250074\n"
          ]
        }
      ]
    },
    {
      "cell_type": "markdown",
      "source": [
        "***Apache Spark job:***"
      ],
      "metadata": {
        "id": "_0x9-dMAzKUa"
      }
    },
    {
      "cell_type": "code",
      "source": [
        "from pyspark.sql import SparkSession\n",
        "from pyspark.sql.functions import col, count, sum, avg, when\n",
        "\n",
        "\n",
        "# Step 1: Initialize Spark Session\n",
        "spark = SparkSession.builder \\\n",
        "    .appName(\"Retail Data Analysis with Plots\") \\\n",
        "    .getOrCreate()\n",
        "\n",
        "# Step 2: Load the Dataset\n",
        "data_path = \"Retail.csv\"  # Update with the actual file path if needed\n",
        "retail_df = spark.read.csv(data_path, header=True, inferSchema=True)"
      ],
      "metadata": {
        "id": "EijLX5RZyUnG"
      },
      "execution_count": 25,
      "outputs": []
    },
    {
      "cell_type": "code",
      "source": [
        "# Step 3: Show the Schema and Preview the Data\n",
        "print(\"Dataset Schema:\")\n",
        "retail_df.printSchema()\n",
        "\n",
        "print(\"\\nSample Data:\")\n",
        "retail_df.show(5)"
      ],
      "metadata": {
        "colab": {
          "base_uri": "https://localhost:8080/"
        },
        "id": "9YQgJSwv5Dup",
        "outputId": "ef49a5a0-79f5-4ddf-ced4-a6334d5a0063"
      },
      "execution_count": 26,
      "outputs": [
        {
          "output_type": "stream",
          "name": "stdout",
          "text": [
            "Dataset Schema:\n",
            "root\n",
            " |-- Transaction_ID: integer (nullable = true)\n",
            " |-- Date: timestamp (nullable = true)\n",
            " |-- Customer_Name: string (nullable = true)\n",
            " |-- Product: string (nullable = true)\n",
            " |-- Total_Items: integer (nullable = true)\n",
            " |-- Total_Cost: double (nullable = true)\n",
            " |-- Payment_Method: string (nullable = true)\n",
            " |-- City: string (nullable = true)\n",
            " |-- Store_Type: string (nullable = true)\n",
            " |-- Discount_Applied: boolean (nullable = true)\n",
            " |-- Customer_Category: string (nullable = true)\n",
            " |-- Season: string (nullable = true)\n",
            " |-- Promotion: string (nullable = true)\n",
            "\n",
            "\n",
            "Sample Data:\n",
            "+--------------+-------------------+-----------------+--------------------+-----------+----------+--------------+-------------+----------------+----------------+-----------------+------+--------------------+\n",
            "|Transaction_ID|               Date|    Customer_Name|             Product|Total_Items|Total_Cost|Payment_Method|         City|      Store_Type|Discount_Applied|Customer_Category|Season|           Promotion|\n",
            "+--------------+-------------------+-----------------+--------------------+-----------+----------+--------------+-------------+----------------+----------------+-----------------+------+--------------------+\n",
            "|    1000000000|2022-01-21 06:27:29|     Stacey Price|['Ketchup', 'Shav...|          3|     71.65|Mobile Payment|  Los Angeles|  Warehouse Club|            true|        Homemaker|Winter|                None|\n",
            "|    1000000001|2023-03-01 13:01:21| Michelle Carlson|['Ice Cream', 'Mi...|          2|     25.93|          Cash|San Francisco| Specialty Store|            true|     Professional|  Fall|BOGO (Buy One Get...|\n",
            "|    1000000002|2024-03-21 15:37:04|      Lisa Graves|         ['Spinach']|          6|     41.49|   Credit Card|      Houston|Department Store|            true|     Professional|Winter|                None|\n",
            "|    1000000003|2020-10-31 09:59:47|Mrs. Patricia May|['Tissues', 'Must...|          1|     39.34|Mobile Payment|      Chicago|        Pharmacy|            true|        Homemaker|Spring|                None|\n",
            "|    1000000004|2020-12-10 00:59:59|   Susan Mitchell|       ['Dish Soap']|         10|     16.42|    Debit Card|      Houston| Specialty Store|           false|      Young Adult|Winter|Discount on Selec...|\n",
            "+--------------+-------------------+-----------------+--------------------+-----------+----------+--------------+-------------+----------------+----------------+-----------------+------+--------------------+\n",
            "only showing top 5 rows\n",
            "\n"
          ]
        }
      ]
    },
    {
      "cell_type": "code",
      "source": [
        "# Step 4: Data Cleaning and Filtering\n",
        "# Check for missing values in each column\n",
        "missing_values_df = retail_df.select([count(when(col(c).isNull(), c)).alias(c) for c in retail_df.columns])\n",
        "\n",
        "# Show the number of missing values in each column\n",
        "missing_values_df.show()\n",
        "\n",
        "# Remove rows with null values in key columns\n",
        "cleaned_df = retail_df.na.drop(subset=[\"Total_Items\", \"Total_Cost\", \"Payment_Method\", \"City\"])\n",
        "print(f\"\\nCleaned Data Count: {cleaned_df.count()}\")\n",
        "\n",
        "# Filter transactions where the total cost is greater than 50\n",
        "filtered_df = cleaned_df.filter(col(\"Total_Cost\") > 50)\n",
        "print(f\"Filtered Data Count (Total_Cost > 50): {filtered_df.count()}\")\n"
      ],
      "metadata": {
        "colab": {
          "base_uri": "https://localhost:8080/"
        },
        "id": "QAzGjuqa6Uqy",
        "outputId": "312704a1-b1ac-48f1-aefc-913aed3f3f4f"
      },
      "execution_count": 27,
      "outputs": [
        {
          "output_type": "stream",
          "name": "stdout",
          "text": [
            "+--------------+----+-------------+-------+-----------+----------+--------------+----+----------+----------------+-----------------+------+---------+\n",
            "|Transaction_ID|Date|Customer_Name|Product|Total_Items|Total_Cost|Payment_Method|City|Store_Type|Discount_Applied|Customer_Category|Season|Promotion|\n",
            "+--------------+----+-------------+-------+-----------+----------+--------------+----+----------+----------------+-----------------+------+---------+\n",
            "|             0|   0|            0|      0|          0|         0|             0|   0|         0|               0|                0|     0|        0|\n",
            "+--------------+----+-------------+-------+-----------+----------+--------------+----+----------+----------------+-----------------+------+---------+\n",
            "\n",
            "\n",
            "Cleaned Data Count: 1000000\n",
            "Filtered Data Count (Total_Cost > 50): 525546\n"
          ]
        }
      ]
    },
    {
      "cell_type": "code",
      "source": [
        "# Step 5: Data Aggregation\n",
        "# Count of transactions by Payment Method\n",
        "payment_counts = cleaned_df.groupBy(\"Payment_Method\").count()\n",
        "payment_counts_pandas = payment_counts.toPandas()\n",
        "print(\"\\nTransaction Counts by Payment Method:\")\n",
        "print(payment_counts_pandas)\n",
        "\n",
        "# Total revenue by City\n",
        "city_revenue = cleaned_df.groupBy(\"City\").agg(sum(\"Total_Cost\").alias(\"Total_Revenue\"))\n",
        "city_revenue_pandas = city_revenue.toPandas()\n",
        "print(\"\\nTotal Revenue by City:\")\n",
        "print(city_revenue_pandas)\n",
        "\n",
        "# Average number of items per transaction by Season\n",
        "avg_items_per_season = cleaned_df.groupBy(\"Season\").agg(avg(\"Total_Items\").alias(\"Avg_Items\"))\n",
        "avg_items_per_season_pandas = avg_items_per_season.toPandas()\n",
        "print(\"\\nAverage Number of Items per Transaction by Season:\")\n",
        "print(avg_items_per_season_pandas)"
      ],
      "metadata": {
        "colab": {
          "base_uri": "https://localhost:8080/"
        },
        "id": "EBAZxNjH5IVw",
        "outputId": "32802ebd-8c45-40c3-b23a-973d35eec113"
      },
      "execution_count": 28,
      "outputs": [
        {
          "output_type": "stream",
          "name": "stdout",
          "text": [
            "\n",
            "Transaction Counts by Payment Method:\n",
            "   Payment_Method   count\n",
            "0  Mobile Payment  249711\n",
            "1     Credit Card  249985\n",
            "2            Cash  250230\n",
            "3      Debit Card  250074\n",
            "\n",
            "Total Revenue by City:\n",
            "            City  Total_Revenue\n",
            "0         Dallas     5277111.53\n",
            "1    Los Angeles     5232393.19\n",
            "2  San Francisco     5241099.86\n",
            "3        Chicago     5263187.45\n",
            "4        Atlanta     5202731.84\n",
            "5        Seattle     5235365.43\n",
            "6        Houston     5247054.78\n",
            "7          Miami     5240498.44\n",
            "8       New York     5252469.92\n",
            "9         Boston     5263307.96\n",
            "\n",
            "Average Number of Items per Transaction by Season:\n",
            "   Season  Avg_Items\n",
            "0  Spring   5.500240\n",
            "1  Summer   5.501308\n",
            "2    Fall   5.492883\n",
            "3  Winter   5.489332\n"
          ]
        }
      ]
    },
    {
      "cell_type": "code",
      "source": [
        "# Step 6: Exploratory Data Analysis (EDA)\n",
        "# Top 5 cities by total revenue\n",
        "top_cities = city_revenue.orderBy(col(\"Total_Revenue\").desc()).limit(5)\n",
        "top_cities_pandas = top_cities.toPandas()\n",
        "print(\"\\nTop 5 Cities by Total Revenue:\")\n",
        "print(top_cities_pandas)\n",
        "\n",
        "# Transaction count by Customer Category\n",
        "customer_category_counts = cleaned_df.groupBy(\"Customer_Category\").count()\n",
        "customer_category_pandas = customer_category_counts.toPandas()\n",
        "print(\"\\nTransaction Counts by Customer Category:\")\n",
        "print(customer_category_pandas)\n",
        "\n",
        "# Distribution of Discounts Applied\n",
        "discount_distribution = cleaned_df.groupBy(\"Discount_Applied\").count()\n",
        "discount_distribution_pandas = discount_distribution.toPandas()\n",
        "print(\"\\nDiscount Distribution:\")\n",
        "print(discount_distribution_pandas)\n"
      ],
      "metadata": {
        "colab": {
          "base_uri": "https://localhost:8080/"
        },
        "id": "rV2SX6Cs5K-8",
        "outputId": "edf1fa1b-decd-41d6-a198-9e842f4049a9"
      },
      "execution_count": 29,
      "outputs": [
        {
          "output_type": "stream",
          "name": "stdout",
          "text": [
            "\n",
            "Top 5 Cities by Total Revenue:\n",
            "       City  Total_Revenue\n",
            "0    Dallas     5277111.53\n",
            "1    Boston     5263307.96\n",
            "2   Chicago     5263187.45\n",
            "3  New York     5252469.92\n",
            "4   Houston     5247054.78\n",
            "\n",
            "Transaction Counts by Customer Category:\n",
            "  Customer_Category   count\n",
            "0          Teenager  125319\n",
            "1           Student  124842\n",
            "2           Retiree  125072\n",
            "3         Homemaker  125418\n",
            "4    Senior Citizen  125485\n",
            "5       Young Adult  124577\n",
            "6      Professional  124651\n",
            "7       Middle-Aged  124636\n",
            "\n",
            "Discount Distribution:\n",
            "   Discount_Applied   count\n",
            "0              True  500104\n",
            "1             False  499896\n"
          ]
        }
      ]
    },
    {
      "cell_type": "markdown",
      "source": [
        "***Advanced Analytics and Machine Learning***"
      ],
      "metadata": {
        "id": "esnXbyKCzSBQ"
      }
    },
    {
      "cell_type": "code",
      "source": [
        "from pyspark.sql import SparkSession\n",
        "from pyspark.sql.functions import when, col\n",
        "from pyspark.ml.feature import StringIndexer, VectorAssembler\n",
        "from pyspark.ml.classification import LogisticRegression\n",
        "from pyspark.ml.evaluation import BinaryClassificationEvaluator\n",
        "import matplotlib.pyplot as plt\n",
        "\n"
      ],
      "metadata": {
        "id": "fjDeSS282pkl"
      },
      "execution_count": 30,
      "outputs": []
    },
    {
      "cell_type": "code",
      "source": [
        "# 2.2 Encode the target variable (Discount_Applied: TRUE -> 1, FALSE -> 0)\n",
        "retail_df = retail_df.withColumn(\"Discount_Applied\", when(col(\"Discount_Applied\") == \"TRUE\", 1).otherwise(0))\n",
        "\n",
        "# 2.3 Encode categorical features (Payment_Method)\n",
        "indexer = StringIndexer(inputCol=\"Payment_Method\", outputCol=\"Payment_Method_Index\")\n",
        "retail_df = indexer.fit(retail_df).transform(retail_df)\n",
        "\n",
        "# 2.4 Assemble features into a single vector\n",
        "feature_cols = [\"Total_Items\", \"Total_Cost\", \"Payment_Method_Index\"]\n",
        "assembler = VectorAssembler(inputCols=feature_cols, outputCol=\"features\")\n",
        "retail_df = assembler.transform(retail_df)\n",
        "\n",
        "# Show the resulting DataFrame with new features\n",
        "retail_df.select(\"Discount_Applied\", \"Payment_Method_Index\", \"features\").show()"
      ],
      "metadata": {
        "colab": {
          "base_uri": "https://localhost:8080/"
        },
        "id": "R_yhMwsb3ZBN",
        "outputId": "f535565b-96fc-4284-b89e-9f460bf7ded7"
      },
      "execution_count": 31,
      "outputs": [
        {
          "output_type": "stream",
          "name": "stdout",
          "text": [
            "+----------------+--------------------+----------------+\n",
            "|Discount_Applied|Payment_Method_Index|        features|\n",
            "+----------------+--------------------+----------------+\n",
            "|               1|                 3.0| [3.0,71.65,3.0]|\n",
            "|               1|                 0.0| [2.0,25.93,0.0]|\n",
            "|               1|                 2.0| [6.0,41.49,2.0]|\n",
            "|               1|                 3.0| [1.0,39.34,3.0]|\n",
            "|               0|                 1.0|[10.0,16.42,1.0]|\n",
            "|               1|                 0.0| [3.0,72.24,0.0]|\n",
            "|               0|                 0.0|  [4.0,5.28,0.0]|\n",
            "|               0|                 1.0| [5.0,21.77,1.0]|\n",
            "|               0|                 3.0| [4.0,55.25,3.0]|\n",
            "|               1|                 3.0| [7.0,31.21,3.0]|\n",
            "|               1|                 1.0| [8.0,91.59,1.0]|\n",
            "|               0|                 3.0| [7.0,31.88,3.0]|\n",
            "|               0|                 1.0| [9.0,39.75,1.0]|\n",
            "|               0|                 3.0| [7.0,17.51,3.0]|\n",
            "|               1|                 2.0| [1.0,33.64,2.0]|\n",
            "|               0|                 3.0| [7.0,29.57,3.0]|\n",
            "|               1|                 3.0|  [5.0,99.7,3.0]|\n",
            "|               0|                 2.0| [8.0,15.62,2.0]|\n",
            "|               0|                 3.0| [3.0,98.28,3.0]|\n",
            "|               1|                 1.0| [7.0,96.77,1.0]|\n",
            "+----------------+--------------------+----------------+\n",
            "only showing top 20 rows\n",
            "\n"
          ]
        }
      ]
    },
    {
      "cell_type": "code",
      "source": [
        "# Step 3: Split Data into Training and Testing Sets\n",
        "train_data, test_data = retail_df.randomSplit([0.8, 0.2], seed=42)\n",
        "\n",
        "# Step 4: Train the Model\n",
        "lr = LogisticRegression(featuresCol=\"features\", labelCol=\"Discount_Applied\", maxIter=10)\n",
        "lr_model = lr.fit(train_data)"
      ],
      "metadata": {
        "id": "3hy4-z2j3bmm"
      },
      "execution_count": 32,
      "outputs": []
    },
    {
      "cell_type": "code",
      "source": [
        "# Step 5: Evaluate the Model\n",
        "# 5.1 Predictions\n",
        "predictions = lr_model.transform(test_data)\n",
        "\n",
        "# 5.2 Binary Classification Evaluator\n",
        "evaluator = BinaryClassificationEvaluator(labelCol=\"Discount_Applied\", rawPredictionCol=\"rawPrediction\", metricName=\"areaUnderROC\")\n",
        "roc_auc = evaluator.evaluate(predictions)\n",
        "print(f\"ROC-AUC Score: {roc_auc}\")\n",
        "\n",
        "# 5.3 Display Accuracy\n",
        "accuracy = predictions.filter(predictions[\"Discount_Applied\"] == predictions[\"prediction\"]).count() / float(test_data.count())\n",
        "print(f\"Accuracy: {accuracy}\")\n",
        "\n",
        "# Step 6: Visualize Feature Coefficients\n",
        "coefficients = lr_model.coefficients.toArray()\n",
        "feature_importance = {col: coef for col, coef in zip(feature_cols, coefficients)}\n",
        "\n",
        "# Plot Feature Coefficients\n",
        "plt.figure(figsize=(8, 5))\n",
        "plt.bar(feature_importance.keys(), feature_importance.values(), color='blue')\n",
        "plt.title(\"Feature Importance (Logistic Regression Coefficients)\")\n",
        "plt.xlabel(\"Features\")\n",
        "plt.ylabel(\"Coefficient Value\")\n",
        "plt.xticks(rotation=45)\n",
        "plt.tight_layout()\n",
        "plt.show()\n",
        "\n",
        "# Step 7: Stop the Spark Session\n",
        "spark.stop()"
      ],
      "metadata": {
        "colab": {
          "base_uri": "https://localhost:8080/",
          "height": 542
        },
        "id": "ju1WYUYL3hQ8",
        "outputId": "f71ac235-74bb-4f1f-e38e-451214ca62d0"
      },
      "execution_count": 33,
      "outputs": [
        {
          "output_type": "stream",
          "name": "stdout",
          "text": [
            "ROC-AUC Score: 0.49888837963321214\n",
            "Accuracy: 0.49997501199424277\n"
          ]
        },
        {
          "output_type": "display_data",
          "data": {
            "text/plain": [
              "<Figure size 800x500 with 1 Axes>"
            ],
            "image/png": "[encoded data removed]"
          },
          "metadata": {}
        }
      ]
    }
  ]
}